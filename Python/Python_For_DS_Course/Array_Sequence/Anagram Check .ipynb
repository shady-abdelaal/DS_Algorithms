{
 "cells": [
  {
   "cell_type": "markdown",
   "metadata": {},
   "source": [
    "# Anagram Check\n",
    "\n",
    "## Problem\n",
    "\n",
    "Given two strings, check to see if they are anagrams. An anagram is when the two strings can be written using the exact same letters (so you can just rearrange the letters to get a different phrase or word). \n",
    "\n",
    "For example:\n",
    "\n",
    "    \"public relations\" is an anagram of \"crap built on lies.\"\n",
    "    \n",
    "    \"clint eastwood\" is an anagram of \"old west action\"\n",
    "    \n",
    "**Note: Ignore spaces and capitalization. So \"d go\" is an anagram of \"God\" and \"dog\" and \"o d g\".**\n",
    "\n",
    "## Solution\n",
    "\n",
    "Fill out your solution below:"
   ]
  },
  {
   "cell_type": "code",
   "execution_count": 54,
   "metadata": {},
   "outputs": [],
   "source": [
    "from collections import Counter\n",
    "def anagram(s1,s2):\n",
    "    s1 = s1.replace(\" \",\"\")\n",
    "    s2 = s2.replace(\" \",\"\")\n",
    "    count1_dict = Counter(s1)\n",
    "    #print(count1_dict)\n",
    "    \n",
    "    for character in s2:\n",
    "        #print(character)\n",
    "        counterValue = count1_dict.get(character, 0)\n",
    "        #print(counterValue)\n",
    "        if counterValue == 0:\n",
    "            return False\n",
    "        elif counterValue == 1:\n",
    "            del(count1_dict[character])\n",
    "        else:\n",
    "            count1_dict[character] = count1_dict[character] - 1\n",
    "        \n",
    "        #print(count1_dict)\n",
    "        \n",
    "    return len(count1_dict.keys()) == 0\n",
    "\n"
   ]
  },
  {
   "cell_type": "code",
   "execution_count": 82,
   "metadata": {},
   "outputs": [],
   "source": [
    "def anagram2(s1,s2):\n",
    "    s1 = s1.replace(\" \",\"\")\n",
    "    s2 = s2.replace(\" \",\"\")\n",
    "    countDict = {}\n",
    "    if len(s1) != len(s2):\n",
    "        return False\n",
    "    \n",
    "    for element in s1:\n",
    "        countDict[element] = countDict.get(element, 0) +1\n",
    "        \n",
    "    for letter in s2:\n",
    "        countDict[letter] = countDict.get(letter, 2) - 1\n",
    "    \n",
    "    for k in countDict.values():\n",
    "        if k != 0:\n",
    "            return False\n",
    "    \n",
    "    return True\n",
    "        "
   ]
  },
  {
   "cell_type": "code",
   "execution_count": 83,
   "metadata": {},
   "outputs": [
    {
     "name": "stdout",
     "output_type": "stream",
     "text": [
      "dict_values([0, 0, 0])\n",
      "dict_values([0, 0, 0])\n",
      "dict_values([0, 0, 0])\n"
     ]
    },
    {
     "data": {
      "text/plain": [
       "True"
      ]
     },
     "execution_count": 83,
     "metadata": {},
     "output_type": "execute_result"
    }
   ],
   "source": [
    "anagram2('dog','god')"
   ]
  },
  {
   "cell_type": "code",
   "execution_count": 84,
   "metadata": {},
   "outputs": [
    {
     "name": "stdout",
     "output_type": "stream",
     "text": [
      "dict_values([0, 0, 0, 0, 0, 0, 0, 0, 0, 0, 0])\n",
      "dict_values([0, 0, 0, 0, 0, 0, 0, 0, 0, 0, 0])\n",
      "dict_values([0, 0, 0, 0, 0, 0, 0, 0, 0, 0, 0])\n",
      "dict_values([0, 0, 0, 0, 0, 0, 0, 0, 0, 0, 0])\n",
      "dict_values([0, 0, 0, 0, 0, 0, 0, 0, 0, 0, 0])\n",
      "dict_values([0, 0, 0, 0, 0, 0, 0, 0, 0, 0, 0])\n",
      "dict_values([0, 0, 0, 0, 0, 0, 0, 0, 0, 0, 0])\n",
      "dict_values([0, 0, 0, 0, 0, 0, 0, 0, 0, 0, 0])\n",
      "dict_values([0, 0, 0, 0, 0, 0, 0, 0, 0, 0, 0])\n",
      "dict_values([0, 0, 0, 0, 0, 0, 0, 0, 0, 0, 0])\n",
      "dict_values([0, 0, 0, 0, 0, 0, 0, 0, 0, 0, 0])\n"
     ]
    },
    {
     "data": {
      "text/plain": [
       "True"
      ]
     },
     "execution_count": 84,
     "metadata": {},
     "output_type": "execute_result"
    }
   ],
   "source": [
    "anagram2('clint eastwood','old west action')"
   ]
  },
  {
   "cell_type": "code",
   "execution_count": 77,
   "metadata": {},
   "outputs": [
    {
     "data": {
      "text/plain": [
       "False"
      ]
     },
     "execution_count": 77,
     "metadata": {},
     "output_type": "execute_result"
    }
   ],
   "source": [
    "anagram2('aabbcc','aabbc')"
   ]
  },
  {
   "cell_type": "markdown",
   "metadata": {},
   "source": [
    "# Test Your Solution\n",
    "Run the cell below to test your solution"
   ]
  },
  {
   "cell_type": "code",
   "execution_count": 85,
   "metadata": {},
   "outputs": [
    {
     "name": "stdout",
     "output_type": "stream",
     "text": [
      "ALL TEST CASES PASSED\n"
     ]
    }
   ],
   "source": [
    "\"\"\"\n",
    "RUN THIS CELL TO TEST YOUR SOLUTION\n",
    "\"\"\"\n",
    "from nose.tools import assert_equal\n",
    "\n",
    "class AnagramTest(object):\n",
    "    \n",
    "    def test(self,sol):\n",
    "        assert_equal(sol('go go go','gggooo'),True)\n",
    "        assert_equal(sol('abc','cba'),True)\n",
    "        assert_equal(sol('hi man','hi     man'),True)\n",
    "        assert_equal(sol('aabbcc','aabbc'),False)\n",
    "        assert_equal(sol('123','1 2'),False)\n",
    "        print(\"ALL TEST CASES PASSED\")\n",
    "\n",
    "# Run Tests\n",
    "t = AnagramTest()\n",
    "t.test(anagram)"
   ]
  },
  {
   "cell_type": "code",
   "execution_count": 86,
   "metadata": {},
   "outputs": [
    {
     "name": "stdout",
     "output_type": "stream",
     "text": [
      "dict_values([0, 0])\n",
      "dict_values([0, 0])\n",
      "dict_values([0, 0, 0])\n",
      "dict_values([0, 0, 0])\n",
      "dict_values([0, 0, 0])\n",
      "dict_values([0, 0, 0, 0, 0])\n",
      "dict_values([0, 0, 0, 0, 0])\n",
      "dict_values([0, 0, 0, 0, 0])\n",
      "dict_values([0, 0, 0, 0, 0])\n",
      "dict_values([0, 0, 0, 0, 0])\n",
      "ALL TEST CASES PASSED\n"
     ]
    }
   ],
   "source": [
    "t.test(anagram2)"
   ]
  },
  {
   "cell_type": "markdown",
   "metadata": {},
   "source": [
    "# Good Job!"
   ]
  }
 ],
 "metadata": {
  "kernelspec": {
   "display_name": "Python 3",
   "language": "python",
   "name": "python3"
  },
  "language_info": {
   "codemirror_mode": {
    "name": "ipython",
    "version": 3
   },
   "file_extension": ".py",
   "mimetype": "text/x-python",
   "name": "python",
   "nbconvert_exporter": "python",
   "pygments_lexer": "ipython3",
   "version": "3.7.7"
  }
 },
 "nbformat": 4,
 "nbformat_minor": 1
}
